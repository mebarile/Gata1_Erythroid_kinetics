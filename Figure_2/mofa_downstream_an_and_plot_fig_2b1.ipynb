{
 "cells": [
  {
   "cell_type": "markdown",
   "metadata": {},
   "source": [
    "This functions retrieves the fitted MOFA models, plots Figure 2B and returns MOFA Factors and factor weights"
   ]
  },
  {
   "cell_type": "code",
   "execution_count": 1,
   "metadata": {},
   "outputs": [
    {
     "name": "stderr",
     "output_type": "stream",
     "text": [
      "\n",
      "Attaching package: ‘MOFA2’\n",
      "\n",
      "\n",
      "The following object is masked from ‘package:stats’:\n",
      "\n",
      "    predict\n",
      "\n",
      "\n"
     ]
    }
   ],
   "source": [
    "library(reticulate)\n",
    "use_condaenv(\"scvelo2\", required = TRUE)\n",
    "library(ggplot2)\n",
    "library(MOFA2)"
   ]
  },
  {
   "cell_type": "code",
   "execution_count": null,
   "metadata": {},
   "outputs": [],
   "source": []
  },
  {
   "cell_type": "code",
   "execution_count": 2,
   "metadata": {},
   "outputs": [],
   "source": [
    "# Prepare object"
   ]
  },
  {
   "cell_type": "code",
   "execution_count": 3,
   "metadata": {},
   "outputs": [],
   "source": [
    "model <- load_model(\"./mofa_out_cos_all.hdf5\")"
   ]
  },
  {
   "cell_type": "code",
   "execution_count": 4,
   "metadata": {},
   "outputs": [],
   "source": [
    "meta_data = read.table(\"./meta.tab\", header = TRUE, sep = \"\\t\", stringsAsFactors = FALSE, comment.char = \"$\")\n",
    "list_cells = read.csv('./list_cells.csv',header = FALSE)"
   ]
  },
  {
   "cell_type": "code",
   "execution_count": 5,
   "metadata": {},
   "outputs": [],
   "source": [
    "rownames(meta_data) = meta_data$cell\n",
    "meta_data = meta_data[list_cells$V1,]"
   ]
  },
  {
   "cell_type": "code",
   "execution_count": 6,
   "metadata": {},
   "outputs": [],
   "source": [
    "sample_metadata <- model@samples_metadata\n",
    "row.names(sample_metadata) = sample_metadata$sample\n",
    "sample_metadata$type <- meta_data$celltype\n",
    "sample_metadata$stage <- meta_data$stage\n",
    "sample_metadata$batch <- meta_data$sample\n",
    "samples_metadata(model) <- sample_metadata"
   ]
  },
  {
   "cell_type": "code",
   "execution_count": null,
   "metadata": {},
   "outputs": [],
   "source": []
  },
  {
   "cell_type": "code",
   "execution_count": 8,
   "metadata": {},
   "outputs": [
    {
     "data": {
      "text/html": [
       "<dl>\n",
       "\t<dt>$r2_total</dt>\n",
       "\t\t<dd><strong>$group0</strong> = <style>\n",
       ".dl-inline {width: auto; margin:0; padding: 0}\n",
       ".dl-inline>dt, .dl-inline>dd {float: none; width: auto; display: inline-block}\n",
       ".dl-inline>dt::after {content: \":\\0020\"; padding-right: .5ex}\n",
       ".dl-inline>dt:not(:first-of-type) {padding-left: .5ex}\n",
       "</style><dl class=dl-inline><dt>spliced</dt><dd>16.8648980848322</dd><dt>unspliced</dt><dd>4.24149381476473</dd></dl>\n",
       "</dd>\n",
       "\t<dt>$r2_per_factor</dt>\n",
       "\t\t<dd><strong>$group0</strong> = <table>\n",
       "<caption>A matrix: 8 × 2 of type dbl</caption>\n",
       "<thead>\n",
       "\t<tr><th></th><th scope=col>spliced</th><th scope=col>unspliced</th></tr>\n",
       "</thead>\n",
       "<tbody>\n",
       "\t<tr><th scope=row>Factor1</th><td>3.0828646</td><td>0.6661887</td></tr>\n",
       "\t<tr><th scope=row>Factor2</th><td>2.0991246</td><td>0.0000000</td></tr>\n",
       "\t<tr><th scope=row>Factor3</th><td>1.6103122</td><td>0.0000000</td></tr>\n",
       "\t<tr><th scope=row>Factor4</th><td>1.1600209</td><td>0.3153877</td></tr>\n",
       "\t<tr><th scope=row>Factor5</th><td>1.2850231</td><td>0.0000000</td></tr>\n",
       "\t<tr><th scope=row>Factor6</th><td>0.8052496</td><td>0.2669029</td></tr>\n",
       "\t<tr><th scope=row>Factor7</th><td>0.8497732</td><td>0.2084671</td></tr>\n",
       "\t<tr><th scope=row>Factor8</th><td>0.6597459</td><td>0.2201942</td></tr>\n",
       "</tbody>\n",
       "</table>\n",
       "</dd>\n",
       "</dl>\n"
      ],
      "text/latex": [
       "\\begin{description}\n",
       "\\item[\\$r2\\_total] \\textbf{\\$group0} = \\begin{description*}\n",
       "\\item[spliced] 16.8648980848322\n",
       "\\item[unspliced] 4.24149381476473\n",
       "\\end{description*}\n",
       "\n",
       "\\item[\\$r2\\_per\\_factor] \\textbf{\\$group0} = A matrix: 8 × 2 of type dbl\n",
       "\\begin{tabular}{r|ll}\n",
       "  & spliced & unspliced\\\\\n",
       "\\hline\n",
       "\tFactor1 & 3.0828646 & 0.6661887\\\\\n",
       "\tFactor2 & 2.0991246 & 0.0000000\\\\\n",
       "\tFactor3 & 1.6103122 & 0.0000000\\\\\n",
       "\tFactor4 & 1.1600209 & 0.3153877\\\\\n",
       "\tFactor5 & 1.2850231 & 0.0000000\\\\\n",
       "\tFactor6 & 0.8052496 & 0.2669029\\\\\n",
       "\tFactor7 & 0.8497732 & 0.2084671\\\\\n",
       "\tFactor8 & 0.6597459 & 0.2201942\\\\\n",
       "\\end{tabular}\n",
       "\n",
       "\\end{description}\n"
      ],
      "text/markdown": [
       "$r2_total\n",
       ":   **$group0** = spliced\n",
       ":   16.8648980848322unspliced\n",
       ":   4.24149381476473\n",
       "\n",
       "\n",
       "$r2_per_factor\n",
       ":   **$group0** = \n",
       "A matrix: 8 × 2 of type dbl\n",
       "\n",
       "| <!--/--> | spliced | unspliced |\n",
       "|---|---|---|\n",
       "| Factor1 | 3.0828646 | 0.6661887 |\n",
       "| Factor2 | 2.0991246 | 0.0000000 |\n",
       "| Factor3 | 1.6103122 | 0.0000000 |\n",
       "| Factor4 | 1.1600209 | 0.3153877 |\n",
       "| Factor5 | 1.2850231 | 0.0000000 |\n",
       "| Factor6 | 0.8052496 | 0.2669029 |\n",
       "| Factor7 | 0.8497732 | 0.2084671 |\n",
       "| Factor8 | 0.6597459 | 0.2201942 |\n",
       "\n",
       "\n",
       "\n",
       "\n"
      ],
      "text/plain": [
       "$r2_total\n",
       "$r2_total$group0\n",
       "  spliced unspliced \n",
       "16.864898  4.241494 \n",
       "\n",
       "\n",
       "$r2_per_factor\n",
       "$r2_per_factor$group0\n",
       "          spliced unspliced\n",
       "Factor1 3.0828646 0.6661887\n",
       "Factor2 2.0991246 0.0000000\n",
       "Factor3 1.6103122 0.0000000\n",
       "Factor4 1.1600209 0.3153877\n",
       "Factor5 1.2850231 0.0000000\n",
       "Factor6 0.8052496 0.2669029\n",
       "Factor7 0.8497732 0.2084671\n",
       "Factor8 0.6597459 0.2201942\n",
       "\n"
      ]
     },
     "metadata": {},
     "output_type": "display_data"
    }
   ],
   "source": [
    "calculate_variance_explained(model)"
   ]
  },
  {
   "cell_type": "code",
   "execution_count": null,
   "metadata": {},
   "outputs": [],
   "source": []
  },
  {
   "cell_type": "code",
   "execution_count": 9,
   "metadata": {},
   "outputs": [],
   "source": [
    "# Plot"
   ]
  },
  {
   "cell_type": "code",
   "execution_count": 10,
   "metadata": {},
   "outputs": [],
   "source": [
    "p <- plot_variance_explained(model, x=\"group\", y=\"factor\", plot_total = T);"
   ]
  },
  {
   "cell_type": "code",
   "execution_count": 11,
   "metadata": {},
   "outputs": [
    {
     "data": {
      "image/png": "[encoded data removed]",
      "text/plain": [
       "plot without title"
      ]
     },
     "metadata": {
      "image/png": {
       "height": 420,
       "width": 420
      }
     },
     "output_type": "display_data"
    }
   ],
   "source": [
    "p[[2]]"
   ]
  },
  {
   "cell_type": "code",
   "execution_count": null,
   "metadata": {},
   "outputs": [],
   "source": []
  },
  {
   "cell_type": "code",
   "execution_count": 12,
   "metadata": {},
   "outputs": [],
   "source": [
    "# Save tables"
   ]
  },
  {
   "cell_type": "code",
   "execution_count": 13,
   "metadata": {},
   "outputs": [],
   "source": [
    "factors <- get_factors(model, as.data.frame = T)\n",
    "weights <- get_weights(model, as.data.frame = T)"
   ]
  },
  {
   "cell_type": "code",
   "execution_count": null,
   "metadata": {},
   "outputs": [],
   "source": [
    "write.csv(factors, './factors_mofa_all.csv')\n",
    "write.csv(weights, './weights_mofa_all.csv')"
   ]
  }
 ],
 "metadata": {
  "kernelspec": {
   "display_name": "R",
   "language": "R",
   "name": "ir"
  },
  "language_info": {
   "codemirror_mode": "r",
   "file_extension": ".r",
   "mimetype": "text/x-r-source",
   "name": "R",
   "pygments_lexer": "r",
   "version": "3.6.0"
  }
 },
 "nbformat": 4,
 "nbformat_minor": 4
}
