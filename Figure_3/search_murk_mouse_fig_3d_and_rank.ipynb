{
 "cells": [
  {
   "cell_type": "markdown",
   "metadata": {},
   "source": [
    "# Get the MURK genes for GO analysis Figure 3D and rank the change in slope"
   ]
  },
  {
   "cell_type": "code",
   "execution_count": 1,
   "metadata": {},
   "outputs": [],
   "source": [
    "import scvelo as scv\n",
    "import numpy as np\n",
    "import pandas as pd\n",
    "import scipy\n",
    "import scanpy as sc"
   ]
  },
  {
   "cell_type": "code",
   "execution_count": 2,
   "metadata": {},
   "outputs": [],
   "source": [
    "sc.settings.vector_friendly = False\n",
    "scv.set_figure_params( dpi=300, dpi_save = 300, frameon=False, figsize = (7,4), format='png',fontsize=25)"
   ]
  },
  {
   "cell_type": "code",
   "execution_count": 3,
   "metadata": {},
   "outputs": [],
   "source": [
    "#Read data"
   ]
  },
  {
   "cell_type": "code",
   "execution_count": 4,
   "metadata": {},
   "outputs": [],
   "source": [
    "dir_data = './output_data/'\n",
    "\n",
    "adata_tot = scv.read(dir_data + 'adata_umap_pca.h5')"
   ]
  },
  {
   "cell_type": "markdown",
   "metadata": {},
   "source": [
    "Prepare object"
   ]
  },
  {
   "cell_type": "code",
   "execution_count": 5,
   "metadata": {},
   "outputs": [],
   "source": [
    "# Define object characteristics"
   ]
  },
  {
   "cell_type": "code",
   "execution_count": 6,
   "metadata": {},
   "outputs": [],
   "source": [
    "celltype_colours = [\n",
    "\"#f9decf\",\n",
    "\"#c9a997\",\n",
    "\"#C72228\",\n",
    "\"#f77b59\",\n",
    "\"#EF4E22\"]\n",
    "\n",
    "population_names = ['Blood progenitors 1','Blood progenitors 2', 'Erythroid1', 'Erythroid2', 'Erythroid3']"
   ]
  },
  {
   "cell_type": "code",
   "execution_count": 7,
   "metadata": {},
   "outputs": [],
   "source": [
    "# Subset object"
   ]
  },
  {
   "cell_type": "code",
   "execution_count": null,
   "metadata": {},
   "outputs": [],
   "source": [
    "adata = adata_tot.copy()\n",
    "adata = adata[(adata.obs['celltype'] == 'Erythroid1') | \n",
    "                  (adata.obs['celltype'] == 'Erythroid2') |\n",
    "                  (adata.obs['celltype'] == 'Erythroid3') | \n",
    "                  (adata.obs['celltype'] == 'Blood progenitors 1') |\n",
    "                  (adata.obs['celltype'] == 'Blood progenitors 2'),:].copy()\n",
    "\n",
    "adata.uns['celltype_colors'] = celltype_colours\n",
    "adata_temp = adata.copy()"
   ]
  },
  {
   "cell_type": "code",
   "execution_count": null,
   "metadata": {},
   "outputs": [],
   "source": [
    "vecB1 = np.array(adata.obs.celltype == 'Blood progenitors 1')\n",
    "vecB2 = np.array(adata.obs.celltype == 'Blood progenitors 2')\n",
    "vecE1 = np.array(adata.obs.celltype == 'Erythroid1')\n",
    "vecE2 = np.array(adata.obs.celltype == 'Erythroid2')\n",
    "vecE3 = np.array(adata.obs.celltype == 'Erythroid3')\n",
    "\n",
    "population_vectors = [vecB1, vecB2, vecE1, vecE2, vecE3]"
   ]
  },
  {
   "cell_type": "code",
   "execution_count": null,
   "metadata": {},
   "outputs": [],
   "source": [
    "# Preprocessing "
   ]
  },
  {
   "cell_type": "code",
   "execution_count": null,
   "metadata": {},
   "outputs": [],
   "source": [
    "sc.pp.normalize_total(adata, target_sum=1e4)\n",
    "sc.pp.log1p(adata)\n",
    "sc.pp.highly_variable_genes(adata, min_mean=0.05,min_disp=0.1)\n",
    "list_hvg = adata.var_names[adata.var.highly_variable]"
   ]
  },
  {
   "cell_type": "code",
   "execution_count": null,
   "metadata": {},
   "outputs": [],
   "source": [
    "adata = adata_temp.copy()\n",
    "scv.pp.filter_and_normalize(adata, min_shared_counts = 20, n_top_genes = 2000)\n",
    "\n",
    "list_scv = adata.var_names\n",
    "\n",
    "list_out = [gene for gene in list_scv if gene not in list_hvg]\n",
    "\n",
    "list_tot = list(list_hvg)\n",
    "\n",
    "list_tot.extend(list_out)"
   ]
  },
  {
   "cell_type": "code",
   "execution_count": null,
   "metadata": {},
   "outputs": [],
   "source": [
    "# Imputation"
   ]
  },
  {
   "cell_type": "code",
   "execution_count": null,
   "metadata": {},
   "outputs": [],
   "source": [
    "adata = adata_temp.copy()\n",
    "adata = adata[:,list_tot]\n",
    "# adata.write('adata_for_velocity_mouse.h5')"
   ]
  },
  {
   "cell_type": "code",
   "execution_count": null,
   "metadata": {},
   "outputs": [],
   "source": [
    "scv.pp.filter_and_normalize(adata)\n",
    "scv.pp.moments(adata)"
   ]
  },
  {
   "cell_type": "markdown",
   "metadata": {},
   "source": [
    "Murk genes research"
   ]
  },
  {
   "cell_type": "code",
   "execution_count": null,
   "metadata": {},
   "outputs": [],
   "source": [
    "# Linear regression model: compute a slope for each gene and each population in phase plot space and store them in two dataframes"
   ]
  },
  {
   "cell_type": "code",
   "execution_count": null,
   "metadata": {},
   "outputs": [],
   "source": [
    "# initialize matrix for spliced (mat_s) and unspliced (unspliced) counts\n",
    "mat_s = pd.DataFrame(adata.layers['Ms'].copy())\n",
    "mat_u = pd.DataFrame(adata.layers['Mu'].copy())\n",
    "mat_s.index = adata.obs_names\n",
    "mat_s.columns = adata.var_names\n",
    "mat_u.index = adata.obs_names\n",
    "mat_u.columns = adata.var_names"
   ]
  },
  {
   "cell_type": "code",
   "execution_count": null,
   "metadata": {},
   "outputs": [],
   "source": [
    "# initialize dataframes for slopes (df_sl) and slope error (df_ds)\n",
    "df_sl = pd.DataFrame(index = adata.var_names)\n",
    "df_ds = pd.DataFrame(index = adata.var_names)"
   ]
  },
  {
   "cell_type": "code",
   "execution_count": null,
   "metadata": {},
   "outputs": [],
   "source": [
    "# compute slopes and errors\n",
    "for pop in population_names:\n",
    "\n",
    "    vec = adata.obs['celltype'] == pop\n",
    "    \n",
    "    x = mat_s.loc[vec]\n",
    "    y = mat_u.loc[vec]\n",
    "    \n",
    "    mx = np.mean(x)\n",
    "    my = np.mean(y)\n",
    "    x_mx = x - mx\n",
    "    y_my = y - my\n",
    "    xy = np.sum(x_mx * y_my, axis = 0)\n",
    "    X2 = np.sum(x_mx**2,axis = 0)\n",
    "    sl = xy / X2\n",
    "    inter = my - sl * mx\n",
    "    n = np.sum(vec)\n",
    "                \n",
    "    df_sl[pop] = pd.DataFrame(sl)     \n",
    "    \n",
    "    pred = sl * x + inter\n",
    "    sse = (pred - y)**2\n",
    "    SSE = np.sum(sse, axis = 0)\n",
    "                \n",
    "    ds = np.sqrt(SSE/(n-2)/X2)\n",
    "    df_ds[pop] = pd.DataFrame(ds)"
   ]
  },
  {
   "cell_type": "code",
   "execution_count": null,
   "metadata": {},
   "outputs": [],
   "source": [
    "# initialize dataframes for slopes (df_exp), expression error (df_de) and 95% quantile (df_quant)\n",
    "df_exp = pd.DataFrame(index = adata.var_names)\n",
    "df_de = pd.DataFrame(index = adata.var_names)\n",
    "df_quan = pd.DataFrame(index = adata.var_names)"
   ]
  },
  {
   "cell_type": "code",
   "execution_count": null,
   "metadata": {},
   "outputs": [],
   "source": [
    "# compute average expression and its error\n",
    "for pop in population_names:\n",
    "\n",
    "    vec = adata.obs['celltype'] == pop\n",
    "    n = np.sum(vec)\n",
    "    expr = np.mean(mat_s.loc[vec], axis = 0)\n",
    "    dex = np.std(mat_s.loc[vec], axis = 0)/np.sqrt(n)\n",
    "    \n",
    "    df_exp[pop] = pd.DataFrame(expr)\n",
    "    df_de[pop] = pd.DataFrame(dex)\n",
    "\n",
    "for pop in population_names:\n",
    "    vec = adata.obs['celltype'] == pop\n",
    "    n = np.sum(vec)\n",
    "    \n",
    "    df_quan[pop] = scipy.stats.t.ppf(0.95, n - 1)"
   ]
  },
  {
   "cell_type": "code",
   "execution_count": null,
   "metadata": {},
   "outputs": [],
   "source": [
    "# compute minimum and maximum estimates of the slopes\n",
    "df_conf = df_ds * df_quan\n",
    "\n",
    "df_min = df_sl - df_conf\n",
    "df_max = df_sl + df_conf"
   ]
  },
  {
   "cell_type": "code",
   "execution_count": null,
   "metadata": {},
   "outputs": [],
   "source": [
    "# decide if a change is slope is significative (Erythroid 3 expressed more than the others, its minimum slope grater than the previous maximum slope and positive)\n",
    "\n",
    "vec_mean = (((df_exp['Erythroid3'] >  df_exp['Erythroid2'])\n",
    "            |(df_exp['Erythroid3'] >  df_exp['Erythroid1']))\n",
    "            &(df_exp['Erythroid3'] >  df_exp['Blood progenitors 1'])\n",
    "            &(df_exp['Erythroid3'] >  df_exp['Blood progenitors 2']))\n",
    "\n",
    "vec_sl = (df_sl['Erythroid3'] > df_sl['Erythroid2']) \n",
    "\n",
    "vec_pos =  df_sl['Erythroid3']>0\n",
    "\n",
    "vec_test = df_min['Erythroid3'] > df_max['Erythroid2']\n",
    "\n",
    "vec_tot = ((np.array(vec_sl) & np.array(vec_mean) & np.array(vec_pos) & np.array(vec_test)) | \n",
    " (vec_mean & np.array(df_sl['Erythroid3']<0)) )"
   ]
  },
  {
   "cell_type": "code",
   "execution_count": null,
   "metadata": {},
   "outputs": [],
   "source": [
    "# How many MURK genes\n",
    "np.sum(vec_tot)"
   ]
  },
  {
   "cell_type": "code",
   "execution_count": null,
   "metadata": {},
   "outputs": [],
   "source": [
    "# MURK genes for GO analysis Figure 3D\n",
    "murk_genes = adata.var_names[vec_tot]\n",
    "pd.DataFrame(murk_genes).to_csv('murk_genes_mouse.csv', index=None,header=None)"
   ]
  },
  {
   "cell_type": "code",
   "execution_count": null,
   "metadata": {},
   "outputs": [],
   "source": [
    "# Recalculate the slopes scaling for the avarage of gene expression in order to range the genes for \"MURKiness\"\n",
    "\n",
    "df_sl2 = pd.DataFrame(index=adata.var_names)\n",
    "\n",
    "for pop in population_names:\n",
    "    print(pop)\n",
    "    vec = adata.obs['celltype'] == pop\n",
    "    \n",
    "    x = mat_s.loc[vec]/np.max(mat_s.loc[vec])\n",
    "    y = mat_u.loc[vec]/np.max(mat_u.loc[vec])\n",
    "    \n",
    "    mx = np.mean(x)\n",
    "    my = np.mean(y)\n",
    "    x_mx = x - mx\n",
    "    y_my = y - my\n",
    "    xy = np.abs(np.sum(x_mx * y_my, axis = 0))\n",
    "    X2 = np.sum(x_mx**2,axis = 0)\n",
    "    sl = xy / X2\n",
    "\n",
    "    df_sl2[pop] = pd.DataFrame(sl)"
   ]
  },
  {
   "cell_type": "code",
   "execution_count": null,
   "metadata": {},
   "outputs": [],
   "source": [
    "# Rank genes: higher difference in scaled slope ranks higher\n",
    "df_rank = pd.DataFrame((df_min['Erythroid3'] - df_max['Erythroid2']))\n",
    "\n",
    "vec1 = np.array((df_max['Erythroid3']<0) & (df_min['Erythroid2']<0))\n",
    "\n",
    "df_rank.loc[vec1] = pd.DataFrame(-df_max.loc[vec1]['Erythroid3'] + df_min.loc[vec1]['Erythroid2'])\n",
    "\n",
    "vec2 = np.array((df_max['Erythroid3']<0) & (df_min['Erythroid2']>0))\n",
    "\n",
    "df_rank.loc[vec2] = pd.DataFrame(-df_max.loc[vec2]['Erythroid3'] + df_min.loc[vec2]['Erythroid2'])\n",
    "\n",
    "\n",
    "df_rank.columns = ['\\u0394'+'m']\n",
    "df_rank['scaled \\u0394'+'m'] = np.abs(df_sl2['Erythroid3'] - df_sl2['Erythroid2'])\n",
    "\n",
    "\n",
    "\n",
    "df_fin = df_rank.loc[murk_genes].sort_values(by = 'scaled \\u0394'+'m',ascending = False)\n",
    "\n",
    "df_fin.to_csv('ranked_murk_genes_mouse_correct.csv')"
   ]
  }
 ],
 "metadata": {
  "kernelspec": {
   "display_name": "Python 3",
   "language": "python",
   "name": "python3"
  },
  "language_info": {
   "codemirror_mode": {
    "name": "ipython",
    "version": 3
   },
   "file_extension": ".py",
   "mimetype": "text/x-python",
   "name": "python",
   "nbconvert_exporter": "python",
   "pygments_lexer": "ipython3",
   "version": "3.7.6"
  }
 },
 "nbformat": 4,
 "nbformat_minor": 4
}
